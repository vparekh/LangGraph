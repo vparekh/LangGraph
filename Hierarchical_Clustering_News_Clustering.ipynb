{
  "nbformat": 4,
  "nbformat_minor": 0,
  "metadata": {
    "colab": {
      "provenance": [],
      "include_colab_link": true
    },
    "kernelspec": {
      "name": "python3",
      "display_name": "Python 3"
    },
    "language_info": {
      "name": "python"
    }
  },
  "cells": [
    {
      "cell_type": "markdown",
      "metadata": {
        "id": "view-in-github",
        "colab_type": "text"
      },
      "source": [
        "<a href=\"https://colab.research.google.com/github/vparekh/LangGraph/blob/main/Hierarchical_Clustering_News_Clustering.ipynb\" target=\"_parent\"><img src=\"https://colab.research.google.com/assets/colab-badge.svg\" alt=\"Open In Colab\"/></a>"
      ]
    },
    {
      "cell_type": "markdown",
      "source": [
        "#Hierarchical Clustering\n",
        "\n",
        "Hierarchical clustering is an unsupervised learning method that builds a tree of clusters (called a dendrogram) by either:\n",
        "\n",
        "* Agglomerative (“bottom-up”): start with each data point as its own cluster, then iteratively merge the two closest clusters until everything is in one big cluster.\n",
        "* Divisive (“top-down”): start with one cluster containing all points, then split it iteratively.\n",
        "\n",
        "In most practical cases (and for this session), we use Agglomerative Clustering:\n",
        "\n",
        "1. Initially, treat every data point as a separate cluster.\n",
        "\n",
        "2. Compute pairwise “distance” (e.g., Euclidean) between all clusters.\n",
        "\n",
        "3. Merge the two clusters that are closest.\n",
        "\n",
        "4. Recompute distances between the new cluster and every other cluster.\n",
        "\n",
        "5. Repeat steps 2–4 until you have a single cluster or until you stop at a chosen number of clusters.\n",
        "\n",
        "The result is displayed as a dendrogram, a tree-shaped diagram showing how and in which order clusters were merged. By “cutting” the dendrogram at a certain height, you decide how many final clusters you want.\n"
      ],
      "metadata": {
        "id": "S93yB7MomRA4"
      }
    },
    {
      "cell_type": "markdown",
      "source": [
        "##Use case\n",
        "Imagine you work for a news aggregation platform that pulls in articles from dozens of sources (e.g., Reuters, ANI, tech blogs, financial websites). Every day, thousands of articles arrive, and you want to:\n",
        "\n",
        "* Automatically group together similar articles (so that if a reader finishes one article about, say, “2026 electric-vehicle market trends,” the platform can recommend other “EV-focused” articles).\n",
        "\n",
        "* Help editors spot new sub-topics (e.g., if suddenly many articles about “EV battery-charging infrastructure” appear, you might push a dedicated “EV charging” section).\n",
        "\n",
        "* Reduce manual tagging: instead of having an editor read each article and label it “Politics,” “Tech,” “Finance,” etc., you let clustering suggest natural groups.\n",
        "\n",
        "We’ll demonstrate how to use Hierarchical (Agglomerative) Clustering on a small subset of the 20 Newsgroups dataset (a classic text corpus). In a real system, you’d scale this to hundreds or thousands of articles per day, but the workflow is identical.\n",
        "\n"
      ],
      "metadata": {
        "id": "qiEaeltwm5Uv"
      }
    },
    {
      "cell_type": "markdown",
      "source": [
        "##Dataset\n",
        "\n",
        "We’ll use the “20 Newsgroups” dataset available in scikit-learn. It contains roughly 18,000 news-posting documents organized into 20 topics, such as:\n",
        "\n",
        "* comp.graphics\n",
        "\n",
        "* rec.sport.hockey\n",
        "\n",
        "* sci.space\n",
        "\n",
        "* talk.politics.mideast\n",
        "\n",
        "* …and 16 other categories.\n",
        "\n",
        "For the demo, we’ll load a subset of 100 articles (randomly picked) across several categories, so that:\n",
        "\n",
        "1. The code runs quickly.\n",
        "\n",
        "2. The dendrogram remains readable on screen.\n",
        "\n",
        "You can always scale up later—just be aware the dendrogram grows huge if you cluster thousands of points.\n",
        "\n"
      ],
      "metadata": {
        "id": "ExNBbdVxnWnw"
      }
    },
    {
      "cell_type": "markdown",
      "source": [
        "##Why Hierarchical Clustering on Text?\n",
        "* Text → high-dimensional (each unique word is a “feature”).\n",
        "\n",
        "* We first convert each document into a TF-IDF vector (Term Frequency–Inverse Document Frequency), capturing how important each word is in that document relative to the corpus.\n",
        "\n",
        "* Hierarchical clustering (Agglomerative) doesn’t require specifying the number of clusters up front; you can build the full “cluster tree” (dendrogram) and then “cut” at the height you want.\n",
        "\n",
        "* By examining which articles merge first (most similar), and which only join at very high distances (least similar), we can discover natural groupings (Tech vs. Sports vs. Politics, or even subtopics within Tech).\n",
        "\n"
      ],
      "metadata": {
        "id": "xwsGcXFQnnDw"
      }
    },
    {
      "cell_type": "code",
      "execution_count": null,
      "metadata": {
        "id": "04A4fHwkmEvE"
      },
      "outputs": [],
      "source": [
        "# 1. Import essential libraries\n",
        "import pandas as pd\n",
        "import numpy as np\n",
        "import matplotlib.pyplot as plt\n",
        "import seaborn as sns\n",
        "\n",
        "from sklearn.datasets import fetch_20newsgroups\n",
        "from sklearn.feature_extraction.text import TfidfVectorizer\n",
        "from sklearn.decomposition import TruncatedSVD\n",
        "from scipy.cluster.hierarchy import linkage, dendrogram\n",
        "from sklearn.preprocessing import Normalizer\n",
        "from sklearn.cluster import AgglomerativeClustering\n",
        "\n",
        "# For inline plotting if using Jupyter/Colab\n",
        "%matplotlib inline\n"
      ]
    },
    {
      "cell_type": "code",
      "source": [
        "# 2. Choose categories & fetch a small subset\n",
        "categories = [\n",
        "    'comp.graphics',\n",
        "    'rec.sport.hockey',\n",
        "    'sci.space',\n",
        "    'talk.politics.mideast'\n",
        "]\n",
        "\n",
        "# Only fetch 25 documents per chosen category (total 100)\n",
        "newsgroups = fetch_20newsgroups(\n",
        "    subset='train',\n",
        "    categories=categories,\n",
        "    remove=('headers', 'footers', 'quotes'),\n",
        "    shuffle=True,\n",
        "    random_state=42\n",
        ")\n",
        "\n",
        "# To limit ourselves to 25 per category, we’ll sample:\n",
        "data = pd.DataFrame({\n",
        "    'text': newsgroups.data,\n",
        "    'target': newsgroups.target\n",
        "})\n",
        "# Map target indices to category names\n",
        "target_names = np.array(newsgroups.target_names)\n",
        "data['category'] = target_names[data['target']]\n",
        "\n",
        "# Randomly sample 25 articles per category\n",
        "sampled = data.groupby('category', group_keys=False).apply(lambda x: x.sample(25, random_state=42))\n",
        "sampled = sampled.reset_index(drop=True)\n",
        "\n",
        "# Check counts\n",
        "print(sampled['category'].value_counts())\n"
      ],
      "metadata": {
        "colab": {
          "base_uri": "https://localhost:8080/"
        },
        "id": "awHT9PnKn78f",
        "outputId": "b0a16219-6957-4538-c2c0-74be4f3e91e5"
      },
      "execution_count": null,
      "outputs": [
        {
          "output_type": "stream",
          "name": "stdout",
          "text": [
            "category\n",
            "comp.graphics            25\n",
            "rec.sport.hockey         25\n",
            "sci.space                25\n",
            "talk.politics.mideast    25\n",
            "Name: count, dtype: int64\n"
          ]
        },
        {
          "output_type": "stream",
          "name": "stderr",
          "text": [
            "<ipython-input-2-f22db4f717eb>:28: DeprecationWarning: DataFrameGroupBy.apply operated on the grouping columns. This behavior is deprecated, and in a future version of pandas the grouping columns will be excluded from the operation. Either pass `include_groups=False` to exclude the groupings or explicitly select the grouping columns after groupby to silence this warning.\n",
            "  sampled = data.groupby('category', group_keys=False).apply(lambda x: x.sample(25, random_state=42))\n"
          ]
        }
      ]
    },
    {
      "cell_type": "code",
      "source": [
        "# 3. Inspect a couple of samples\n",
        "for idx in [0, 1, 2]:\n",
        "    print(f\"\\n--- Article {idx} (Category = {sampled.loc[idx, 'category']}) ---\")\n",
        "    print(sampled.loc[idx, 'text'][:300].replace('\\n', ' ') + \"…\")\n"
      ],
      "metadata": {
        "colab": {
          "base_uri": "https://localhost:8080/"
        },
        "id": "ZXg2U9_yoSfP",
        "outputId": "fffab5f0-4af1-407c-88e4-7df6da82563c"
      },
      "execution_count": null,
      "outputs": [
        {
          "output_type": "stream",
          "name": "stdout",
          "text": [
            "\n",
            "--- Article 0 (Category = comp.graphics) ---\n",
            "Hi,  I've noticed that if you only save a model (with all your mapping planes positioned carefully) to a .3DS file that when you reload it after restarting 3DS, they are given a default position and orientation.  But if you save to a .PRJ file their positions/orientation are preserved.  Does anyone …\n",
            "\n",
            "--- Article 1 (Category = comp.graphics) ---\n",
            "--   |||||||||||   \t\t \t   |||||||||||  _|||||||||||_______________________|||||||||||_      jr0930@eve.albany.edu -|||||||||||-----------------------|||||||||||-     jr0930@Albnyvms.bitnet  |||||||||||  GO HEAVY OR GO HOME  ||||||||||| …\n",
            "\n",
            "--- Article 2 (Category = comp.graphics) ---\n",
            "I'm getting ready to buy a multimedia workstation and would like a little advice.  I need a graphics card that will do video in and out under windows. I was originally thinking of a Targa+ but that doesn't work under Windows. What cards should I be looking into?  Thanks, Craig …\n"
          ]
        }
      ]
    },
    {
      "cell_type": "code",
      "source": [
        "# 4. Initialize TF-IDF Vectorizer\n",
        "tfidf = TfidfVectorizer(\n",
        "    max_df=0.7,      # ignore very frequent words (e.g., “the”, “and”) that appear in >70% of docs\n",
        "    min_df=2,        # ignore very rare words that appear in <2 docs\n",
        "    stop_words='english',  # remove English “stop words”\n",
        "    ngram_range=(1,2)       # consider unigrams and bigrams (e.g., “space exploration”)\n",
        ")\n",
        "\n",
        "# 5. Fit TF-IDF on our 100 sampled articles & transform to numeric matrix\n",
        "tfidf_matrix = tfidf.fit_transform(sampled['text'])\n",
        "\n",
        "# 6. Check shape (100 docs × ~thousands of terms)\n",
        "print(\"TF-IDF matrix shape:\", tfidf_matrix.shape)\n",
        "\n",
        "'''\n",
        "Each row of tfidf_matrix is one article.\n",
        "Each column is a word or two-word phrase (bigram).\n",
        "The value is high if that word/phrase is frequent in this article but rare in the rest of the corpus.\n",
        "'''"
      ],
      "metadata": {
        "colab": {
          "base_uri": "https://localhost:8080/",
          "height": 53
        },
        "id": "A5jk6F18oUx4",
        "outputId": "e77380f0-e33c-477c-cbc6-c09b01192dcf"
      },
      "execution_count": null,
      "outputs": [
        {
          "output_type": "stream",
          "name": "stdout",
          "text": [
            "TF-IDF matrix shape: (100, 1427)\n"
          ]
        },
        {
          "output_type": "execute_result",
          "data": {
            "text/plain": [
              "'\\nEach row of tfidf_matrix is one article.\\nEach column is a word or two-word phrase (bigram).\\nThe value is high if that word/phrase is frequent in this article but rare in the rest of the corpus.\\n'"
            ],
            "application/vnd.google.colaboratory.intrinsic+json": {
              "type": "string"
            }
          },
          "metadata": {},
          "execution_count": 4
        }
      ]
    },
    {
      "cell_type": "code",
      "source": [
        "# 7. (Optional but recommended) Reduce dimensionality with TruncatedSVD\n",
        "#    Text TF-IDF matrices are high-dimensional. We reduce to, say, 50 components.\n",
        "svd = TruncatedSVD(n_components=50, random_state=42)\n",
        "svd_components = svd.fit_transform(tfidf_matrix)\n",
        "\n",
        "# 8. Normalize each row to unit length (so distance = cosine distance effectively)\n",
        "normalizer = Normalizer(copy=False)\n",
        "X_reduced = normalizer.fit_transform(svd_components)\n",
        "\n",
        "print(\"Reduced feature shape:\", X_reduced.shape)\n",
        "'''\n",
        "TruncatedSVD(n_components=50) compresses thousands of TF-IDF features into 50 principal components\n",
        "—this captures most of the variance while making clustering much faster.\n",
        "After SVD, we use Normalizer so that each PC vector has length 1 — this means\n",
        "subsequent distance computations approximate cosine similarity, which is often better for text.\n",
        "'''\n"
      ],
      "metadata": {
        "colab": {
          "base_uri": "https://localhost:8080/",
          "height": 71
        },
        "id": "cKiacIDKsgfg",
        "outputId": "d7deb52d-4593-4c6b-bcec-b06d7677ebc8"
      },
      "execution_count": null,
      "outputs": [
        {
          "output_type": "stream",
          "name": "stdout",
          "text": [
            "Reduced feature shape: (100, 50)\n"
          ]
        },
        {
          "output_type": "execute_result",
          "data": {
            "text/plain": [
              "'\\nTruncatedSVD(n_components=50) compresses thousands of TF-IDF features into 50 principal components\\n—this captures most of the variance while making clustering much faster.\\nAfter SVD, we use Normalizer so that each PC vector has length 1 — this means \\nsubsequent distance computations approximate cosine similarity, which is often better for text.\\n'"
            ],
            "application/vnd.google.colaboratory.intrinsic+json": {
              "type": "string"
            }
          },
          "metadata": {},
          "execution_count": 7
        }
      ]
    },
    {
      "cell_type": "code",
      "source": [
        "# 9. Compute the linkage matrix (using Ward’s method on reduced features)\n",
        "#Ward’s method merges clusters in a way that keeps them as tight and compact as possible (i.e., minimum internal variation).\n",
        "\n",
        "linkage_matrix = linkage(X_reduced, method='ward')\n",
        "\n",
        "# 10. Plot a truncated dendrogram (show only last 10 merges for clarity)\n",
        "plt.figure(figsize=(12, 10))\n",
        "dendrogram(\n",
        "    linkage_matrix,\n",
        "    truncate_mode='level',\n",
        "    p=10,                # show only the top 10 cluster merges\n",
        "    leaf_rotation=90.,   # rotate leaf labels vertically\n",
        "    leaf_font_size=10.,\n",
        "    show_contracted=True\n",
        ")\n",
        "plt.title('Hierarchical Clustering Dendrogram (News Articles, Truncated)')\n",
        "plt.xlabel('Sample Index or Merged Cluster Index')\n",
        "plt.ylabel('Ward Distance')\n",
        "plt.tight_layout()\n",
        "plt.show()\n",
        "\n",
        "'''\n",
        "Each of the 100 initial points starts as its own cluster.\n",
        "Whenever two clusters merge, a vertical line is drawn at the “distance” at which they merged.\n",
        "By truncating to p=15, we show only the final 15 merges—this helps keep the dendrogram readable.\n",
        "On the y-axis, you see “Ward Distance”—how dissimilar two clusters were when they merged.\n",
        "A big jump in vertical height suggests two quite different groups merging\n",
        "\n",
        "How to decide “k” (number of clusters):\n",
        "– Look for a large vertical gap where no merges occur.\n",
        "– Suppose you see a big gap just below “Distance = 2.5” when going from 5 merges → 4 merges.\n",
        " If you draw a horizontal line at 2.5, you’ll “cut” the tree into 4 clusters.\n",
        "'''"
      ],
      "metadata": {
        "colab": {
          "base_uri": "https://localhost:8080/",
          "height": 1000
        },
        "id": "ZbuwFFQnqTn7",
        "outputId": "d918cd82-a309-4fc7-ec4e-f9d90081334f"
      },
      "execution_count": null,
      "outputs": [
        {
          "output_type": "display_data",
          "data": {
            "text/plain": [
              "<Figure size 1200x1000 with 1 Axes>"
            ],
            "image/png": "[encoded data removed]"
          },
          "metadata": {}
        },
        {
          "output_type": "execute_result",
          "data": {
            "text/plain": [
              "'\\nEach of the 100 initial points starts as its own cluster.\\nWhenever two clusters merge, a vertical line is drawn at the “distance” at which they merged.\\nBy truncating to p=15, we show only the final 15 merges—this helps keep the dendrogram readable.\\nOn the y-axis, you see “Ward Distance”—how dissimilar two clusters were when they merged. \\nA big jump in vertical height suggests two quite different groups merging\\n\\nHow to decide “k” (number of clusters):\\n– Look for a large vertical gap where no merges occur.\\n– Suppose you see a big gap just below “Distance = 2.5” when going from 5 merges → 4 merges.\\n If you draw a horizontal line at 2.5, you’ll “cut” the tree into 4 clusters.\\n'"
            ],
            "application/vnd.google.colaboratory.intrinsic+json": {
              "type": "string"
            }
          },
          "metadata": {},
          "execution_count": 14
        }
      ]
    },
    {
      "cell_type": "code",
      "source": [
        "# 11. Initialize AgglomerativeClustering for k = 4\n",
        "agg_clust = AgglomerativeClustering(\n",
        "    n_clusters=4,\n",
        "    metric='euclidean',  # distance metric (must match linkage)\n",
        "    linkage='ward'         # same method as used in linkage_matrix\n",
        ")\n",
        "\n",
        "# 12. Fit and predict cluster labels\n",
        "cluster_labels = agg_clust.fit_predict(X_reduced)\n",
        "\n",
        "# 13. Add labels back to our sampled DataFrame\n",
        "sampled['Cluster'] = cluster_labels\n",
        "\n",
        "# 14. How many articles per cluster?\n",
        "print(sampled['Cluster'].value_counts().sort_index())\n",
        "'''\n",
        "We now have 4 clusters (IDs 0, 1, 2, 3).\n",
        "– Cluster sizes may not be exactly equal, because merging depends on text similarity.\n",
        "'''\n"
      ],
      "metadata": {
        "colab": {
          "base_uri": "https://localhost:8080/",
          "height": 142
        },
        "id": "Dr6PFSJHqxSI",
        "outputId": "5c6c18d9-db39-4d14-9aab-45a81589a91b"
      },
      "execution_count": null,
      "outputs": [
        {
          "output_type": "stream",
          "name": "stdout",
          "text": [
            "Cluster\n",
            "0    17\n",
            "1    23\n",
            "2     7\n",
            "3    53\n",
            "Name: count, dtype: int64\n"
          ]
        },
        {
          "output_type": "execute_result",
          "data": {
            "text/plain": [
              "'\\nWe now have 4 clusters (IDs 0, 1, 2, 3).\\n– Cluster sizes may not be exactly equal, because merging depends on text similarity.\\n'"
            ],
            "application/vnd.google.colaboratory.intrinsic+json": {
              "type": "string"
            }
          },
          "metadata": {},
          "execution_count": 10
        }
      ]
    },
    {
      "cell_type": "code",
      "source": [
        "#To understand what each cluster represents, we can look at the top TF-IDF terms among all articles in that cluster.\n",
        "\n",
        "# 15. Create a DataFrame of TF-IDF terms for convenience\n",
        "tfidf_df = pd.DataFrame(\n",
        "    tfidf_matrix.todense(),\n",
        "    columns=tfidf.get_feature_names_out()\n",
        ")\n",
        "\n",
        "# 16. Attach cluster labels\n",
        "tfidf_df['Cluster'] = cluster_labels\n",
        "\n",
        "# 17. Compute the average TF-IDF score per term within each cluster,\n",
        "#     then find the top 10 terms per cluster (by highest average TF-IDF).\n",
        "top_terms = {}\n",
        "for clust in range(4):\n",
        "    # Subset to documents in this cluster\n",
        "    subset = tfidf_df[tfidf_df['Cluster'] == clust].drop(columns=['Cluster'])\n",
        "    # Compute mean TF-IDF score of each term\n",
        "    mean_scores = subset.mean(axis=0)\n",
        "    # Grab the top 10 terms\n",
        "    top10 = mean_scores.sort_values(ascending=False).head(10).index.tolist()\n",
        "    top_terms[clust] = top10\n",
        "\n",
        "# 18. Display top terms per cluster\n",
        "for clust, terms in top_terms.items():\n",
        "    print(f\"\\nCluster {clust} top terms:\\n\", terms)\n",
        "\n",
        "'''\n",
        "Cluster 0: Terms like “graphics,” “image,” “jpeg” → Clearly this cluster is the “comp.graphics” group.\n",
        "Cluster 1: Terms like “nasa,” “space,” “shuttle,” “orbit” → The “sci.space” articles.\n",
        "Cluster 2: Terms like “trump,” “palestinian,” “peace,” “israel” → The “talk.politics.mideast” group.\n",
        "Cluster 3: Terms like “nhl,” “hockey,” “playoffs” → The “rec.sport.hockey” group.\n",
        "\n",
        "Even though we never told the algorithm the “true” category labels,\n",
        "the hierarchical clustering has rediscovered them with high accuracy.\n",
        "'''\n"
      ],
      "metadata": {
        "colab": {
          "base_uri": "https://localhost:8080/",
          "height": 285
        },
        "id": "VC_83sexrhZA",
        "outputId": "cb2d233b-246b-428f-d1d3-fb5caf186a6d"
      },
      "execution_count": null,
      "outputs": [
        {
          "output_type": "stream",
          "name": "stdout",
          "text": [
            "\n",
            "Cluster 0 top terms:\n",
            " ['israel', 'israeli', 'armenian', 'arab', 'rights', 'human', 'try', 'greek', 'jews', 'armenians']\n",
            "\n",
            "Cluster 1 top terms:\n",
            " ['think', 'game', '10', 'hockey', 'time', 'team', 'pens', 'really', 'games', 'don']\n",
            "\n",
            "Cluster 2 top terms:\n",
            " ['file', 'convert', 'image', 'clp', 'use', 'files', 'media', 'knowledge', 'library', 'file use']\n",
            "\n",
            "Cluster 3 top terms:\n",
            " ['edu', 'space', 'data', 'moon', 'new', 'like', 'quite', 'need', 'just', 'real']\n"
          ]
        },
        {
          "output_type": "execute_result",
          "data": {
            "text/plain": [
              "'\\nCluster 0: Terms like “graphics,” “image,” “jpeg” → Clearly this cluster is the “comp.graphics” group.\\nCluster 1: Terms like “nasa,” “space,” “shuttle,” “orbit” → The “sci.space” articles.\\nCluster 2: Terms like “trump,” “palestinian,” “peace,” “israel” → The “talk.politics.mideast” group.\\nCluster 3: Terms like “nhl,” “hockey,” “playoffs” → The “rec.sport.hockey” group.\\n\\nEven though we never told the algorithm the “true” category labels, \\nthe hierarchical clustering has rediscovered them with high accuracy.\\n'"
            ],
            "application/vnd.google.colaboratory.intrinsic+json": {
              "type": "string"
            }
          },
          "metadata": {},
          "execution_count": 11
        }
      ]
    }
  ]
}